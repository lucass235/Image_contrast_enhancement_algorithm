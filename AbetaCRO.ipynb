{
 "cells": [
  {
   "cell_type": "code",
   "execution_count": 1,
   "metadata": {},
   "outputs": [],
   "source": [
    "%load_ext autoreload\n",
    "%autoreload 2"
   ]
  },
  {
   "cell_type": "code",
   "execution_count": 2,
   "metadata": {},
   "outputs": [],
   "source": [
    "import os\n",
    "import sys\n",
    "module_path = os.path.abspath(os.path.join('..'))\n",
    "if module_path not in sys.path:\n",
    "    sys.path.append(module_path)"
   ]
  },
  {
   "cell_type": "code",
   "execution_count": 4,
   "metadata": {},
   "outputs": [
    {
     "name": "stdout",
     "output_type": "stream",
     "text": [
      "Total Acc:  0.5928571428571429\n",
      "Test Accuracy:  0.9714285714285714\n",
      "#Features:  3\n",
      "Total Acc:  0.6571428571428571\n",
      "Test Accuracy:  0.9785714285714285\n",
      "#Features:  2\n",
      "Total Acc:  0.6285714285714286\n",
      "Test Accuracy:  0.9785714285714285\n",
      "#Features:  2\n",
      "Total Acc:  0.6285714285714286\n",
      "Test Accuracy:  0.9714285714285714\n",
      "#Features:  2\n",
      "Total Acc:  0.6285714285714286\n",
      "Test Accuracy:  0.9785714285714285\n",
      "#Features:  2\n",
      "Total Acc:  0.6428571428571429\n",
      "Test Accuracy:  0.9714285714285714\n",
      "#Features:  4\n",
      "Total Acc:  0.5857142857142857\n",
      "Test Accuracy:  0.9857142857142858\n",
      "#Features:  3\n",
      "Total Acc:  0.6357142857142857\n",
      "Test Accuracy:  0.9785714285714285\n",
      "#Features:  3\n",
      "Total Acc:  0.6428571428571429\n",
      "Test Accuracy:  0.9785714285714285\n",
      "#Features:  3\n",
      "Total Acc:  0.6214285714285714\n",
      "Test Accuracy:  0.9714285714285714\n",
      "#Features:  3\n",
      "Total Acc:  0.5857142857142857\n",
      "Test Accuracy:  0.9857142857142858\n",
      "#Features:  3\n",
      "Total Acc:  0.65\n",
      "Test Accuracy:  0.9928571428571429\n",
      "#Features:  3\n",
      "Total Acc:  0.6\n",
      "Test Accuracy:  0.9785714285714285\n",
      "#Features:  2\n",
      "Total Acc:  0.6142857142857143\n",
      "Test Accuracy:  0.9857142857142858\n",
      "#Features:  3\n",
      "Total Acc:  0.6428571428571429\n",
      "Test Accuracy:  0.9928571428571429\n",
      "#Features:  2\n",
      "./data/UCI_datasets/BreastCancer.csv\n",
      "0.9928571428571429 2\n",
      "Total Acc:  0.956140350877193\n",
      "Test Accuracy:  0.9736842105263158\n",
      "#Features:  2\n",
      "Total Acc:  0.9824561403508771\n",
      "Test Accuracy:  0.9824561403508771\n",
      "#Features:  2\n",
      "Total Acc:  0.8947368421052632\n",
      "Test Accuracy:  0.9473684210526315\n",
      "#Features:  4\n",
      "Total Acc:  0.9473684210526315\n",
      "Test Accuracy:  0.9736842105263158\n",
      "#Features:  3\n",
      "Total Acc:  0.9473684210526315\n",
      "Test Accuracy:  0.9736842105263158\n",
      "#Features:  5\n",
      "Total Acc:  0.9298245614035088\n",
      "Test Accuracy:  0.9649122807017544\n",
      "#Features:  5\n",
      "Total Acc:  0.9035087719298246\n",
      "Test Accuracy:  0.9649122807017544\n",
      "#Features:  3\n",
      "Total Acc:  0.9385964912280702\n",
      "Test Accuracy:  0.9473684210526315\n",
      "#Features:  4\n",
      "Total Acc:  0.9122807017543859\n",
      "Test Accuracy:  0.9736842105263158\n",
      "#Features:  2\n",
      "Total Acc:  0.9649122807017544\n",
      "Test Accuracy:  0.9912280701754386\n",
      "#Features:  2\n",
      "Total Acc:  0.9298245614035088\n",
      "Test Accuracy:  0.9736842105263158\n",
      "#Features:  3\n",
      "Total Acc:  0.8947368421052632\n",
      "Test Accuracy:  0.9385964912280702\n",
      "#Features:  5\n",
      "Total Acc:  0.9210526315789473\n",
      "Test Accuracy:  0.9736842105263158\n",
      "#Features:  3\n",
      "Total Acc:  0.956140350877193\n"
     ]
    }
   ],
   "source": [
    "from AbetaCRO import coral_reef"
   ]
  },
  {
   "cell_type": "code",
   "execution_count": null,
   "metadata": {},
   "outputs": [],
   "source": [
    "Ngen = 30                # Number of generations\n",
    "N = 5                   # MxN: reef size\n",
    "M = 5                    # MxN: reef size\n",
    "Fb = 0.6                   # Broadcast prob.\n",
    "Fa = 0.4                   # Asexual reproduction prob.\n",
    "# Fraction of the corals to be eliminated in the depredation operator.\n",
    "Fd = 0.1\n",
    "r0 = 0.6                   # Free/total initial proportion\n",
    "k = 3                     # Number of opportunities for a new coral to settle in the reef\n",
    "Pd = 0.1                   # Depredation prob.\n",
    "omega = 0.9\n",
    "ke = 0.2"
   ]
  },
  {
   "cell_type": "code",
   "execution_count": null,
   "metadata": {},
   "outputs": [],
   "source": [
    "datasetlist = [\"./data/UCI_datasets/BreastCancer.csv\", \"./data/UCI_datasets/BreastEW.csv\", \"./data/UCI_datasets/CongressEW.csv\", \"./data/UCI_datasets/Exactly.csv\", \"./data/UCI_datasets/Exactly2.csv\", \"./data/UCI_datasets/HeartEW.csv\", \"./data/UCI_datasets/Ionosphere.csv\", \"./data/UCI_datasets/KrVsKpEW.csv\", \"./data/UCI_datasets/Lymphography.csv\",\n",
    "               \"./data/UCI_datasets/M-of-n.csv\", \"./data/UCI_datasets/PenglungEW.csv\", \"./data/UCI_datasets/Sonar.csv\", \"./data/UCI_datasets/SpectEW.csv\", \"./data/UCI_datasets/Tic-tac-toe.csv\", \"./data/UCI_datasets/Vote.csv\", \"./data/UCI_datasets/WaveformEW.csv\", \"./data/UCI_datasets/Wine.csv\", \"./data/UCI_datasets/Zoo.csv\"]"
   ]
  },
  {
   "cell_type": "code",
   "execution_count": null,
   "metadata": {},
   "outputs": [],
   "source": [
    "for datasetname in datasetlist:\n",
    "    accuArr = []\n",
    "    featArr = []\n",
    "    for i in range(15):\n",
    "        testAcc, featCnt = coral_reef(datasetname)\n",
    "        accuArr.append(testAcc)\n",
    "        featArr.append(featCnt)\n",
    "    maxx = max(accuArr)\n",
    "    currFeat = 20000\n",
    "    for i in range(np.shape(accuArr)[0]):\n",
    "        if accuArr[i] == maxx and featArr[i] < currFeat:\n",
    "            currFeat = featArr[i]\n",
    "    print(datasetname)\n",
    "    print(maxx, currFeat)"
   ]
  }
 ],
 "metadata": {
  "kernelspec": {
   "display_name": "Python 3",
   "language": "python",
   "name": "python3"
  },
  "language_info": {
   "codemirror_mode": {
    "name": "ipython",
    "version": 3
   },
   "file_extension": ".py",
   "mimetype": "text/x-python",
   "name": "python",
   "nbconvert_exporter": "python",
   "pygments_lexer": "ipython3",
   "version": "3.8.0"
  },
  "orig_nbformat": 4
 },
 "nbformat": 4,
 "nbformat_minor": 2
}
