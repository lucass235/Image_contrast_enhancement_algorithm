{
 "cells": [
  {
   "cell_type": "code",
   "execution_count": 2,
   "metadata": {},
   "outputs": [],
   "source": [
    "%load_ext autoreload\n",
    "%autoreload 2"
   ]
  },
  {
   "cell_type": "code",
   "execution_count": 3,
   "metadata": {},
   "outputs": [],
   "source": [
    "import os\n",
    "import sys\n",
    "module_path = os.path.abspath(os.path.join('..'))\n",
    "if module_path not in sys.path:\n",
    "    sys.path.append(module_path)"
   ]
  },
  {
   "cell_type": "code",
   "execution_count": 4,
   "metadata": {},
   "outputs": [],
   "source": [
    "import cv2\n",
    "import sys\n",
    "import math\n",
    "import time\n",
    "import random\n",
    "import os\n",
    "from datetime import datetime\n",
    "from copy import deepcopy\n",
    "import numpy as np\n",
    "import matplotlib.pyplot as plt\n",
    "from skimage.metrics import structural_similarity as ssim\n",
    "from sewar.full_ref import vifp"
   ]
  },
  {
   "cell_type": "code",
   "execution_count": 5,
   "metadata": {},
   "outputs": [],
   "source": [
    "from iEBMO import bmoIE"
   ]
  },
  {
   "cell_type": "code",
   "execution_count": 6,
   "metadata": {},
   "outputs": [],
   "source": [
    "pSize = [30]\n",
    "maxIter = 100\n",
    "imageNameList = ['./data/DIPCO2017_dataset/1.bmp']\n",
    "# imageNameList = ['a0027.tiff', 'a0037.tiff', 'a0050.tiff']\n",
    "# imageNameList = ['a0027.png', 'a0037.png', 'a0050.png']\n",
    "\n",
    "# print(imageNameList)\n",
    "\n",
    "# imageNameList = ['./data/kodim/kodim01.png', './data/kodim/kodim02.png', './data/kodim/kodim03.png', './data/kodim/kodim04.png',\n",
    "#                  './data/kodim/kodim05.png', './data/kodim/kodim06.png', './data/kodim/kodim07.png', './data/kodim/kodim08.png', './data/kodim/kodim09.png']\n"
   ]
  },
  {
   "cell_type": "code",
   "execution_count": 9,
   "metadata": {},
   "outputs": [
    {
     "data": {
      "text/plain": [
       "['./data/DIPCO2017_dataset/1.png']"
      ]
     },
     "execution_count": 9,
     "metadata": {},
     "output_type": "execute_result"
    }
   ],
   "source": [
    "# converte imagens bmp para png\n",
    "from PIL import Image\n",
    "\n",
    "for imgName in imageNameList:\n",
    "    im = Image.open(imgName)\n",
    "    im.save(imgName.replace('.bmp', '.png'))\n",
    "    imageNameList[imageNameList.index(imgName)] = imgName.replace('.bmp', '.png')\n",
    "    \n",
    "imageNameList    "
   ]
  },
  {
   "cell_type": "code",
   "execution_count": 20,
   "metadata": {},
   "outputs": [
    {
     "name": "stdout",
     "output_type": "stream",
     "text": [
      "./data/DIPCO2017_dataset/1.png\n",
      "30\n",
      "2.306225603159158e+18\n",
      "2.306225603159158e+18\n",
      "4.5735038514048323e+18\n",
      "4.5735038514048323e+18\n",
      "1.5082379950986947e+17\n",
      "1.5082379950986947e+17\n"
     ]
    }
   ],
   "source": [
    "for i in range(len(imageNameList)):\n",
    "    averagePsnr = 0\n",
    "    averageSsim = 0\n",
    "    averageVif = 0\n",
    "    print(imageNameList[i])\n",
    "    for popSize in pSize:\n",
    "        print(popSize)\n",
    "\n",
    "        inputName = \"GroundTruth/kodakDataset/\"+imageNameList[i]\n",
    "        truthName = imageNameList[i]\n",
    "\n",
    "        trImg = cv2.imread(truthName, 0)\n",
    "        cv2.imshow('input', trImg)\n",
    "        histr = cv2.calcHist([trImg], [0], None, [256], [0, 256])\n",
    "        plt.plot(histr)\n",
    "        # histogram of ground truth\n",
    "        name_image_list = imageNameList[i].split('/')\n",
    "        plt.savefig(f\"./histogramsDIBCO/ht_{name_image_list[-1]}\")\n",
    "        plt.clf()\n",
    "        cv2.imwrite(f\"./truthDIBCO/t_{name_image_list[-1]}\", trImg)\n",
    "\n",
    "        bestImage = deepcopy(trImg)\n",
    "\n",
    "        maxPsnr = 0\n",
    "        maxSsim = 0\n",
    "        maxVif = 0\n",
    "        maxfit = -1000\n",
    "        for iteration in range(10):\n",
    "            outputImage, fitval = bmoIE(truthName, popSize, maxIter)\n",
    "\n",
    "            truthImage = cv2.imread(truthName, 0)\n",
    "            psnrval = cv2.PSNR(outputImage, truthImage)\n",
    "            ssimval = ssim(outputImage, truthImage)\n",
    "            vifval = vifp(outputImage, truthImage)\n",
    "            print(iteration,psnrval,ssimval,vifval,int((psnrval+ssimval+vifval)*100))\n",
    "            print(psnrval, ssimval, vifval)\n",
    "            continue\n",
    "\n",
    "            if (psnrval+ssimval+vifval) > maxfit:\n",
    "                maxfit = psnrval+ssimval+vifval\n",
    "                maxPsnr = psnrval\n",
    "                maxSsim = ssimval\n",
    "                maxVif = vifval\n",
    "                bestImage = deepcopy(outputImage)\n",
    "            cv2.imshow(str(iteration+1),bestImage)\n",
    "\n",
    "        print(maxPsnr, maxSsim, maxVif)\n",
    "\n",
    "        averagePsnr += maxPsnr\n",
    "        averageSsim += maxSsim\n",
    "        averageVif += maxVif\n",
    "        print(i+1,averagePsnr,averageSsim,averageVif)\n",
    "\n",
    "        histr = cv2.calcHist([bestImage],[0],None,[256],[0,256])\n",
    "        plt.plot(histr)\n",
    "        plt.savefig(f\"./histogramsDIBCO/ho_{imageNameList[i]}\") #histogram of output image\n",
    "        plt.clf()\n",
    "        transImageName = \"o_\"+name_image_list[-1]\n",
    "        cv2.imwrite(f\"./outputDIBCO/{transImageName}\", bestImage)\n",
    "\n",
    "\n",
    "    averagePsnr /= len(imageNameList)\n",
    "    averageSsim /= len(imageNameList)\n",
    "    averageVif /= len(imageNameList)\n",
    "    print(\"final\")\n",
    "    print(averagePsnr)\n",
    "    print(averageSsim)\n",
    "    print(averageVif)"
   ]
  }
 ],
 "metadata": {
  "kernelspec": {
   "display_name": "Python 3",
   "language": "python",
   "name": "python3"
  },
  "language_info": {
   "codemirror_mode": {
    "name": "ipython",
    "version": 3
   },
   "file_extension": ".py",
   "mimetype": "text/x-python",
   "name": "python",
   "nbconvert_exporter": "python",
   "pygments_lexer": "ipython3",
   "version": "3.8.0"
  },
  "orig_nbformat": 4
 },
 "nbformat": 4,
 "nbformat_minor": 2
}
