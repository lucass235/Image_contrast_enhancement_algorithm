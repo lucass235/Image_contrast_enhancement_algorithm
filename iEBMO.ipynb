{
 "cells": [
  {
   "cell_type": "code",
   "execution_count": 1,
   "metadata": {},
   "outputs": [],
   "source": [
    "%load_ext autoreload\n",
    "%autoreload 2"
   ]
  },
  {
   "cell_type": "code",
   "execution_count": 2,
   "metadata": {},
   "outputs": [],
   "source": [
    "import os\n",
    "import sys\n",
    "module_path = os.path.abspath(os.path.join('..'))\n",
    "if module_path not in sys.path:\n",
    "    sys.path.append(module_path)"
   ]
  },
  {
   "cell_type": "code",
   "execution_count": 3,
   "metadata": {},
   "outputs": [],
   "source": [
    "import cv2\n",
    "import sys\n",
    "import math\n",
    "import time\n",
    "import random\n",
    "import os\n",
    "from datetime import datetime\n",
    "from copy import deepcopy\n",
    "import numpy as np\n",
    "import matplotlib.pyplot as plt\n",
    "from skimage.metrics import structural_similarity as ssim\n",
    "from sewar.full_ref import vifp"
   ]
  },
  {
   "cell_type": "code",
   "execution_count": 6,
   "metadata": {},
   "outputs": [
    {
     "name": "stdout",
     "output_type": "stream",
     "text": [
      "./data/kodim/kodim01.png\n",
      "30\n",
      "44.24840426703462\n",
      "44.24840426703462\n",
      "40175.84877856159\n",
      "40175.84877856159\n",
      "1387974.6613020054\n",
      "1387974.6613020054\n",
      "6100528898.612434\n",
      "6100528898.612434\n",
      "2633.3945573959895\n",
      "2633.3945573959895\n",
      "609339801.1482328\n",
      "609339801.1482328\n"
     ]
    }
   ],
   "source": [
    "from iEBMO import bmoIE"
   ]
  },
  {
   "cell_type": "code",
   "execution_count": 4,
   "metadata": {},
   "outputs": [],
   "source": [
    "pSize = [30]\n",
    "maxIter = 100\n",
    "# imageNameList = ['./data/kodim/kodim01.png', './data/kodim/kodim02.png', './data/kodim/kodim03.png', './data/kodim/kodim04.png', './data/kodim/kodim05.png','./data/kodim/kodim06.png','./data/kodim/kodim07.png','./data/kodim/kodim08.png','./data/kodim/kodim09.png','./data/kodim/kodim10.png','./data/kodim/kodim11.png','./data/kodim/kodim12.png','./data/kodim/kodim13.png','./data/kodim/kodim14.png','./data/kodim/kodim15.png','./data/kodim/kodim16.png','./data/kodim/kodim17.png','./data/kodim/kodim18.png','./data/kodim/kodim19.png','./data/kodim/kodim20.png','./data/kodim/kodim21.png','./data/kodim/kodim22.png','./data/kodim/kodim23.png','./data/kodim/kodim24.png']\n",
    "# imageNameList = ['dibco1.png', 'dibco2.png', 'dibco3.png', 'dibco4.png', 'dibco5.png', 'dibco6.png', 'dibco7.png', 'dibco8.png', 'dibco9.png', 'dibco10.png']\n",
    "# imageNameList = ['a0027.tiff', 'a0037.tiff', 'a0050.tiff']\n",
    "# imageNameList = ['a0027.png', 'a0037.png', 'a0050.png']\n",
    "\n",
    "# print(imageNameList)\n",
    "\n",
    "imageNameList = ['./data/kodim/kodim01.png', './data/kodim/kodim02.png', './data/kodim/kodim03.png', './data/kodim/kodim04.png',\n",
    "                 './data/kodim/kodim05.png', './data/kodim/kodim06.png', './data/kodim/kodim07.png', './data/kodim/kodim08.png', './data/kodim/kodim09.png']\n",
    "# imageNameList = ['lena_gray_256.tif','liftingbody.png','boy.jpg']\n",
    "# imageNameList = ['InputBoy.jpg']\n",
    "# imageNameList = ['boy.jpg','lena.jpg','liftingbody.jpg','zebra.jpg']"
   ]
  },
  {
   "cell_type": "code",
   "execution_count": 5,
   "metadata": {},
   "outputs": [
    {
     "name": "stdout",
     "output_type": "stream",
     "text": [
      "./data/kodim/kodim01.png\n",
      "30\n"
     ]
    },
    {
     "ename": "NameError",
     "evalue": "name 'bmoIE' is not defined",
     "output_type": "error",
     "traceback": [
      "\u001b[1;31m---------------------------------------------------------------------------\u001b[0m",
      "\u001b[1;31mNameError\u001b[0m                                 Traceback (most recent call last)",
      "\u001b[1;32mc:\\Users\\lucas\\Documents\\GitHub\\Projeto_PDI\\iEBMO.ipynb Célula 5\u001b[0m in \u001b[0;36m<cell line: 1>\u001b[1;34m()\u001b[0m\n\u001b[0;32m     <a href='vscode-notebook-cell:/c%3A/Users/lucas/Documents/GitHub/Projeto_PDI/iEBMO.ipynb#W3sZmlsZQ%3D%3D?line=25'>26</a>\u001b[0m maxfit \u001b[39m=\u001b[39m \u001b[39m-\u001b[39m\u001b[39m1000\u001b[39m\n\u001b[0;32m     <a href='vscode-notebook-cell:/c%3A/Users/lucas/Documents/GitHub/Projeto_PDI/iEBMO.ipynb#W3sZmlsZQ%3D%3D?line=26'>27</a>\u001b[0m \u001b[39mfor\u001b[39;00m iteration \u001b[39min\u001b[39;00m \u001b[39mrange\u001b[39m(\u001b[39m10\u001b[39m):\n\u001b[1;32m---> <a href='vscode-notebook-cell:/c%3A/Users/lucas/Documents/GitHub/Projeto_PDI/iEBMO.ipynb#W3sZmlsZQ%3D%3D?line=27'>28</a>\u001b[0m     outputImage, fitval \u001b[39m=\u001b[39m bmoIE(truthName, popSize, maxIter)\n\u001b[0;32m     <a href='vscode-notebook-cell:/c%3A/Users/lucas/Documents/GitHub/Projeto_PDI/iEBMO.ipynb#W3sZmlsZQ%3D%3D?line=29'>30</a>\u001b[0m     truthImage \u001b[39m=\u001b[39m cv2\u001b[39m.\u001b[39mimread(truthName, \u001b[39m0\u001b[39m)\n\u001b[0;32m     <a href='vscode-notebook-cell:/c%3A/Users/lucas/Documents/GitHub/Projeto_PDI/iEBMO.ipynb#W3sZmlsZQ%3D%3D?line=30'>31</a>\u001b[0m     psnrval \u001b[39m=\u001b[39m cv2\u001b[39m.\u001b[39mPSNR(outputImage, truthImage)\n",
      "\u001b[1;31mNameError\u001b[0m: name 'bmoIE' is not defined"
     ]
    },
    {
     "data": {
      "text/plain": [
       "<Figure size 640x480 with 0 Axes>"
      ]
     },
     "metadata": {},
     "output_type": "display_data"
    }
   ],
   "source": [
    "for i in range(len(imageNameList)):\n",
    "    averagePsnr = 0\n",
    "    averageSsim = 0\n",
    "    averageVif = 0\n",
    "    print(imageNameList[i])\n",
    "    for popSize in pSize:\n",
    "        print(popSize)\n",
    "\n",
    "        # inputName = \"GroundTruth/kodakDataset/\"+imageNameList[i]\n",
    "        truthName = imageNameList[i]\n",
    "\n",
    "        trImg = cv2.imread(truthName, 0)\n",
    "        cv2.imshow('input', trImg)\n",
    "        histr = cv2.calcHist([trImg], [0], None, [256], [0, 256])\n",
    "        plt.plot(histr)\n",
    "        # histogram of ground truth\n",
    "        # plt.savefig(\"./histogramsDIBCO/ht_\"+imageNameList[i])\n",
    "        plt.clf()\n",
    "        # cv2.imwrite(\"./truthDIBCO/t_\"+imageNameList[i], trImg)\n",
    "\n",
    "        bestImage = deepcopy(trImg)\n",
    "\n",
    "        maxPsnr = 0\n",
    "        maxSsim = 0\n",
    "        maxVif = 0\n",
    "        maxfit = -1000\n",
    "        for iteration in range(10):\n",
    "            outputImage, fitval = bmoIE(truthName, popSize, maxIter)\n",
    "\n",
    "            truthImage = cv2.imread(truthName, 0)\n",
    "            psnrval = cv2.PSNR(outputImage, truthImage)\n",
    "            ssimval = ssim(outputImage, truthImage)\n",
    "            vifval = vifp(outputImage, truthImage)\n",
    "            # print(iteration,psnrval,ssimval,vifval,int((psnrval+ssimval+vifval)*100))\n",
    "#             print(psnrval, ssimval, vifval)\n",
    "#             continue\n",
    "\n",
    "            if (psnrval+ssimval+vifval) > maxfit:\n",
    "                maxfit = psnrval+ssimval+vifval\n",
    "                maxPsnr = psnrval\n",
    "                maxSsim = ssimval\n",
    "                maxVif = vifval\n",
    "                bestImage = deepcopy(outputImage)\n",
    "#             cv2.imshow(str(iteration+1),bestImage)\n",
    "\n",
    "        print(maxPsnr, maxSsim, maxVif)\n",
    "\n",
    "#         averagePsnr += maxPsnr\n",
    "#         averageSsim += maxSsim\n",
    "#         averageVif += maxVif\n",
    "#         print(i+1,averagePsnr,averageSsim,averageVif)\n",
    "\n",
    "#         histr = cv2.calcHist([bestImage],[0],None,[256],[0,256])\n",
    "#         plt.plot(histr)\n",
    "#         plt.savefig(\"histogramsDIBCO/ho_\"+imageNameList[i]) #histogram of output image\n",
    "#         plt.clf()\n",
    "        transImageName = \"o_\"+imageNameList[i]\n",
    "        cv2.imwrite(\"./outputDIBCO/\"+transImageName, bestImage)\n",
    "\n",
    "\n",
    "#     averagePsnr /= len(imageNameList)\n",
    "#     averageSsim /= len(imageNameList)\n",
    "#     averageVif /= len(imageNameList)\n",
    "    print(\"final\")\n",
    "    print(averagePsnr)\n",
    "    print(averageSsim)\n",
    "    print(averageVif)"
   ]
  }
 ],
 "metadata": {
  "kernelspec": {
   "display_name": "Python 3",
   "language": "python",
   "name": "python3"
  },
  "language_info": {
   "codemirror_mode": {
    "name": "ipython",
    "version": 3
   },
   "file_extension": ".py",
   "mimetype": "text/x-python",
   "name": "python",
   "nbconvert_exporter": "python",
   "pygments_lexer": "ipython3",
   "version": "3.8.0"
  },
  "orig_nbformat": 4
 },
 "nbformat": 4,
 "nbformat_minor": 2
}
